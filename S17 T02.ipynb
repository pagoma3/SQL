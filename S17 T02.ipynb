{
 "cells": [
  {
   "cell_type": "markdown",
   "id": "b0bf656a",
   "metadata": {},
   "source": [
    "Create a relational database using MySQL and connect it to Python:"
   ]
  },
  {
   "cell_type": "code",
   "execution_count": 1,
   "id": "235037bb",
   "metadata": {
    "ExecuteTime": {
     "end_time": "2021-09-01T19:01:07.829976Z",
     "start_time": "2021-09-01T19:01:07.722791Z"
    }
   },
   "outputs": [],
   "source": [
    "# NOTE: since SQL commands cannot be repeated (the changes are saved the first time), the cells where SQL commands\n",
    "# take place are not run in the final loop\n",
    "\n",
    "# First, we download, setup and create a local MySQL community server\n",
    "\n",
    "# Then we import the relevant module:\n",
    "\n",
    "import mysql.connector\n",
    "\n",
    "mydb = mysql.connector.connect(\n",
    "  host=\"localhost\",\n",
    "  user=\"root\",\n",
    "  password=\"rootserver\",\n",
    "  database=\"mydatabase\"\n",
    ")\n",
    "\n",
    "# With the cursor we can start playing with the SQL database\n",
    "\n",
    "mycursor = mydb.cursor()"
   ]
  },
  {
   "cell_type": "code",
   "execution_count": null,
   "id": "f3b56d28",
   "metadata": {
    "ExecuteTime": {
     "end_time": "2021-09-01T17:59:01.609499Z",
     "start_time": "2021-09-01T17:59:01.599437Z"
    }
   },
   "outputs": [],
   "source": [
    "# Create new database\n",
    "\n",
    "mycursor.execute(\"CREATE DATABASE mydatabase\")\n",
    "\n",
    "mycursor.execute(\"CREATE TABLE players (name VARCHAR(255), team VARCHAR(255), score VARCHAR(255))\")\n"
   ]
  },
  {
   "cell_type": "code",
   "execution_count": null,
   "id": "e6585ae9",
   "metadata": {
    "ExecuteTime": {
     "end_time": "2021-09-01T17:59:01.660163Z",
     "start_time": "2021-09-01T17:59:01.634647Z"
    }
   },
   "outputs": [],
   "source": [
    "# We now add a unique ID/Primary Key\n",
    "\n",
    "mycursor.execute(\"ALTER TABLE players ADD COLUMN id INT AUTO_INCREMENT PRIMARY KEY\")\n"
   ]
  },
  {
   "cell_type": "code",
   "execution_count": null,
   "id": "c5c70a11",
   "metadata": {
    "ExecuteTime": {
     "end_time": "2021-09-01T18:02:30.393798Z",
     "start_time": "2021-09-01T18:02:30.354202Z"
    }
   },
   "outputs": [],
   "source": [
    "# Now we add data simulating basic FIFA players data:\n",
    "\n",
    "sql = \"INSERT INTO players (name, team, score) VALUES (%s, %s, %s)\"\n",
    "\n",
    "# We use %s to avoid security breaches\n",
    "\n",
    "val = [\n",
    "  ('Messi', 'PSG', 91),\n",
    "  ('Ronaldo', 'United', 90),\n",
    "  ('Mbappe', 'PSG', 93),\n",
    "  ('Emerson', 'City', 93),\n",
    "  ('Griezmann', 'Atlético', 88),\n",
    "  ('Kane', 'Spurs', 90),\n",
    "  ('Kanté', 'Chelsea', 89),\n",
    "  ('Ter Stegen', 'Barcelona', 91),\n",
    "]\n",
    "\n",
    "mycursor.executemany(sql, val)\n",
    "\n",
    "mydb.commit()\n"
   ]
  },
  {
   "cell_type": "markdown",
   "id": "e56ec471",
   "metadata": {},
   "source": [
    "Show you can build some easy queries and translate the document into a Pandas Dataframe:"
   ]
  },
  {
   "cell_type": "code",
   "execution_count": null,
   "id": "a87a2f18",
   "metadata": {
    "ExecuteTime": {
     "end_time": "2021-09-01T18:06:50.427452Z",
     "start_time": "2021-09-01T18:06:50.341086Z"
    }
   },
   "outputs": [],
   "source": [
    "# We change the data type of the score column, from characters to numbers:\n",
    "\n",
    "mycursor.execute(\"ALTER TABLE players CHANGE score score INT\")"
   ]
  },
  {
   "cell_type": "code",
   "execution_count": 2,
   "id": "c82b5be3",
   "metadata": {
    "ExecuteTime": {
     "end_time": "2021-09-01T19:01:12.860881Z",
     "start_time": "2021-09-01T19:01:12.842486Z"
    }
   },
   "outputs": [
    {
     "name": "stdout",
     "output_type": "stream",
     "text": [
      "('Mbappe', 'PSG', 93, 3)\n",
      "('Emerson', 'City', 93, 4)\n",
      "('Messi', 'PSG', 91, 1)\n",
      "('Ter Stegen', 'Barcelona', 91, 8)\n",
      "('Ronaldo', 'United', 90, 2)\n",
      "('Kane', 'Spurs', 90, 6)\n",
      "('Kanté', 'Chelsea', 89, 7)\n",
      "('Griezmann', 'Atlético', 88, 5)\n"
     ]
    }
   ],
   "source": [
    "# We order the players from best to worst, and we print the result:\n",
    "\n",
    "mycursor.execute(\"SELECT * FROM players ORDER BY score DESC\")\n",
    "\n",
    "myresult = mycursor.fetchall()\n",
    "\n",
    "for x in myresult:\n",
    "      print(x)\n"
   ]
  },
  {
   "cell_type": "code",
   "execution_count": 3,
   "id": "771f4c0c",
   "metadata": {
    "ExecuteTime": {
     "end_time": "2021-09-01T19:01:13.424918Z",
     "start_time": "2021-09-01T19:01:12.930765Z"
    }
   },
   "outputs": [
    {
     "data": {
      "text/html": [
       "<div>\n",
       "<style scoped>\n",
       "    .dataframe tbody tr th:only-of-type {\n",
       "        vertical-align: middle;\n",
       "    }\n",
       "\n",
       "    .dataframe tbody tr th {\n",
       "        vertical-align: top;\n",
       "    }\n",
       "\n",
       "    .dataframe thead th {\n",
       "        text-align: right;\n",
       "    }\n",
       "</style>\n",
       "<table border=\"1\" class=\"dataframe\">\n",
       "  <thead>\n",
       "    <tr style=\"text-align: right;\">\n",
       "      <th></th>\n",
       "      <th>Name</th>\n",
       "      <th>Team</th>\n",
       "      <th>Score</th>\n",
       "      <th>SQL_ID</th>\n",
       "    </tr>\n",
       "  </thead>\n",
       "  <tbody>\n",
       "    <tr>\n",
       "      <th>0</th>\n",
       "      <td>Mbappe</td>\n",
       "      <td>PSG</td>\n",
       "      <td>93</td>\n",
       "      <td>3</td>\n",
       "    </tr>\n",
       "    <tr>\n",
       "      <th>1</th>\n",
       "      <td>Emerson</td>\n",
       "      <td>City</td>\n",
       "      <td>93</td>\n",
       "      <td>4</td>\n",
       "    </tr>\n",
       "    <tr>\n",
       "      <th>2</th>\n",
       "      <td>Messi</td>\n",
       "      <td>PSG</td>\n",
       "      <td>91</td>\n",
       "      <td>1</td>\n",
       "    </tr>\n",
       "    <tr>\n",
       "      <th>3</th>\n",
       "      <td>Ter Stegen</td>\n",
       "      <td>Barcelona</td>\n",
       "      <td>91</td>\n",
       "      <td>8</td>\n",
       "    </tr>\n",
       "    <tr>\n",
       "      <th>4</th>\n",
       "      <td>Ronaldo</td>\n",
       "      <td>United</td>\n",
       "      <td>90</td>\n",
       "      <td>2</td>\n",
       "    </tr>\n",
       "  </tbody>\n",
       "</table>\n",
       "</div>"
      ],
      "text/plain": [
       "         Name       Team  Score  SQL_ID\n",
       "0      Mbappe        PSG     93       3\n",
       "1     Emerson       City     93       4\n",
       "2       Messi        PSG     91       1\n",
       "3  Ter Stegen  Barcelona     91       8\n",
       "4     Ronaldo     United     90       2"
      ]
     },
     "execution_count": 3,
     "metadata": {},
     "output_type": "execute_result"
    }
   ],
   "source": [
    "# We import Pandas and transform the database into a dataframe:\n",
    "\n",
    "import pandas as pd\n",
    "\n",
    "mycursor.execute(\"SELECT * FROM players ORDER BY score DESC\")\n",
    "\n",
    "df = pd.DataFrame(mycursor.fetchall(), columns=(\"Name\", \"Team\", \"Score\", \"SQL_ID\"))\n",
    "\n",
    "df.head()"
   ]
  },
  {
   "cell_type": "markdown",
   "id": "23f19854",
   "metadata": {},
   "source": [
    "Generate a graph summing up the data:"
   ]
  },
  {
   "cell_type": "code",
   "execution_count": 4,
   "id": "4f4f761e",
   "metadata": {
    "ExecuteTime": {
     "end_time": "2021-09-01T19:01:14.908479Z",
     "start_time": "2021-09-01T19:01:13.436244Z"
    }
   },
   "outputs": [
    {
     "data": {
      "image/png": "[encoded data removed]",
      "text/plain": [
       "<Figure size 720x576 with 1 Axes>"
      ]
     },
     "metadata": {
      "needs_background": "light"
     },
     "output_type": "display_data"
    }
   ],
   "source": [
    "# Import Pyplot and make a simple graph showing the best to worst players:\n",
    "\n",
    "import matplotlib.pyplot as plt\n",
    "\n",
    "plt.figure(figsize=(10, 8))\n",
    "plt.bar(df[\"Name\"], df[\"Score\"])\n",
    "plt.show()\n"
   ]
  }
 ],
 "metadata": {
  "kernelspec": {
   "display_name": "Python 3",
   "language": "python",
   "name": "python3"
  },
  "language_info": {
   "codemirror_mode": {
    "name": "ipython",
    "version": 3
   },
   "file_extension": ".py",
   "mimetype": "text/x-python",
   "name": "python",
   "nbconvert_exporter": "python",
   "pygments_lexer": "ipython3",
   "version": "3.8.8"
  },
  "varInspector": {
   "cols": {
    "lenName": 16,
    "lenType": 16,
    "lenVar": 40
   },
   "kernels_config": {
    "python": {
     "delete_cmd_postfix": "",
     "delete_cmd_prefix": "del ",
     "library": "var_list.py",
     "varRefreshCmd": "print(var_dic_list())"
    },
    "r": {
     "delete_cmd_postfix": ") ",
     "delete_cmd_prefix": "rm(",
     "library": "var_list.r",
     "varRefreshCmd": "cat(var_dic_list()) "
    }
   },
   "types_to_exclude": [
    "module",
    "function",
    "builtin_function_or_method",
    "instance",
    "_Feature"
   ],
   "window_display": false
  }
 },
 "nbformat": 4,
 "nbformat_minor": 5
}
